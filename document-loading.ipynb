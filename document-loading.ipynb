{
 "cells": [
  {
   "cell_type": "code",
   "execution_count": null,
   "id": "5309bac5",
   "metadata": {},
   "outputs": [],
   "source": [
    "import os\n",
    "from dotenv import load_dotenv\n",
    "\n",
    "# LangChain imports\n",
    "from langchain_openai import AzureChatOpenAI\n",
    "\n",
    "# Load environment variables\n",
    "load_dotenv()\n",
    "\n",
    "# Get Azure OpenAI configuration from environment variables\n",
    "azure_openai_api_key = os.getenv(\"AZURE_OPENAI_KEY\")\n",
    "azure_openai_endpoint = os.getenv(\"AZURE_OPENAI_ENDPOINT\")\n",
    "azure_openai_api_version = os.getenv(\"AZURE_OPENAI_VERSION\")\n",
    "azure_openai_deployment_name = os.getenv(\"AZURE_OPENAI_DEPLOYMENT_NAME\")\n",
    "\n",
    "print(\"Libraries imported successfully!\")"
   ]
  },
  {
   "cell_type": "code",
   "execution_count": null,
   "id": "dfd8d5e3",
   "metadata": {},
   "outputs": [],
   "source": [
    "from langchain.document_loaders import PyPDFLoader\n",
    "loader = PyPDFLoader(\"docs/test.pdf\")\n",
    "pages = loader.load()"
   ]
  },
  {
   "cell_type": "code",
   "execution_count": null,
   "id": "fe96ab85",
   "metadata": {},
   "outputs": [],
   "source": [
    "len(pages)"
   ]
  },
  {
   "cell_type": "code",
   "execution_count": null,
   "id": "1cd1e05c",
   "metadata": {},
   "outputs": [],
   "source": [
    "page = pages[0]"
   ]
  },
  {
   "cell_type": "code",
   "execution_count": null,
   "id": "e3794e51",
   "metadata": {},
   "outputs": [],
   "source": [
    "print(page.page_content[0:500])"
   ]
  },
  {
   "cell_type": "code",
   "execution_count": null,
   "id": "dc7a1e5d",
   "metadata": {},
   "outputs": [],
   "source": [
    "page.metadata"
   ]
  },
  {
   "cell_type": "code",
   "execution_count": null,
   "id": "fe97a7c8",
   "metadata": {},
   "outputs": [],
   "source": [
    "from langchain_community.document_loaders.generic import GenericLoader\n",
    "from langchain_community.document_loaders.blob_loaders import FileSystemBlobLoader\n",
    "from langchain_community.document_loaders.parsers.audio import AzureOpenAIWhisperParser\n",
    "from langchain_community.document_loaders.blob_loaders.youtube_audio import YoutubeAudioLoader"
   ]
  },
  {
   "cell_type": "code",
   "execution_count": null,
   "id": "7d078740",
   "metadata": {},
   "outputs": [],
   "source": [
    "# Replace your existing YouTube loading cell with this corrected version\n",
    "url=[\"<youtube-url>\"] # Replace with your YouTube video URL, Must be a list\n",
    "save_dir=\"docs/youtube/\"\n",
    "\n",
    "# Create the directory if it doesn't exist\n",
    "os.makedirs(save_dir, exist_ok=True)\n",
    "\n",
    "# must be deployed in Azure. \n",
    "# Only the below version worked with AzureOpenAI and langchain at the time of developing this code\n",
    "model_name = \"whisper\"\n",
    "model_version = \"2023-09-01-preview\" #important to use the correct version\n",
    "\n",
    "parser = AzureOpenAIWhisperParser(\n",
    "    api_key=azure_openai_api_key, azure_endpoint=azure_openai_endpoint, api_version=model_version, deployment_name=model_name\n",
    ")\n",
    "\n",
    "loader = GenericLoader(\n",
    "    YoutubeAudioLoader(url, save_dir), parser\n",
    ")\n",
    "\n",
    "# code to fetch locally an audio file\n",
    "#loader = GenericLoader(\n",
    "#    FileSystemBlobLoader(save_dir, glob=\"*.m4a\"),   \n",
    "#    parser\n",
    "#)\n",
    "\n",
    "try:\n",
    "    docs = loader.load()\n",
    "    print(docs)\n",
    "except Exception as e:\n",
    "    import traceback\n",
    "    traceback.print_exc()\n",
    "    print(f\"An error occurred while loading the YouTube audio: {e}\")\n",
    "\n"
   ]
  },
  {
   "cell_type": "code",
   "execution_count": null,
   "id": "ccc5d00e",
   "metadata": {},
   "outputs": [],
   "source": [
    "#code to test Azure OpenAI Whisper model directly. Here the latest version worked while with langchain only the older version worked\n",
    "import requests\n",
    "from pathlib import Path\n",
    "\n",
    "url = f\"{azure_openai_endpoint}/openai/deployments/whisper/audio/transcriptions?api-version=2024-06-01\"\n",
    "audio_file_path = Path(\"docs/youtube/test.m4a\")  # Adjust filename if needed\n",
    "headers = {\n",
    "    \"api-key\": azure_openai_api_key,\n",
    "}\n",
    "files = {\n",
    "    \"file\": open(audio_file_path, \"rb\"),\n",
    "    \"model\": (None, \"whisper\"),\n",
    "}\n",
    "\n",
    "response = requests.post(url, headers=headers, files=files)\n",
    "print(response.status_code)\n",
    "print(response.text)\n"
   ]
  },
  {
   "cell_type": "code",
   "execution_count": null,
   "id": "3347c411",
   "metadata": {},
   "outputs": [],
   "source": [
    "from langchain.document_loaders import WebBaseLoader\n",
    "\n",
    "loader = WebBaseLoader(\"https://github.com/basecamp/handbook/blob/master/titles-for-programmers.md\")"
   ]
  },
  {
   "cell_type": "code",
   "execution_count": null,
   "id": "d43b5e5c",
   "metadata": {},
   "outputs": [],
   "source": [
    "docs = loader.load()"
   ]
  },
  {
   "cell_type": "code",
   "execution_count": null,
   "id": "3695ebef",
   "metadata": {},
   "outputs": [],
   "source": [
    "print(docs[0].page_content[:500])"
   ]
  },
  {
   "cell_type": "code",
   "execution_count": null,
   "id": "6bd2c4d0",
   "metadata": {},
   "outputs": [],
   "source": []
  }
 ],
 "metadata": {
  "kernelspec": {
   "display_name": "venv",
   "language": "python",
   "name": "python3"
  },
  "language_info": {
   "codemirror_mode": {
    "name": "ipython",
    "version": 3
   },
   "file_extension": ".py",
   "mimetype": "text/x-python",
   "name": "python",
   "nbconvert_exporter": "python",
   "pygments_lexer": "ipython3",
   "version": "3.13.5"
  }
 },
 "nbformat": 4,
 "nbformat_minor": 5
}
