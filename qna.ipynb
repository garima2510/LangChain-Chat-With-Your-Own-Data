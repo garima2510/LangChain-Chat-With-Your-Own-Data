{
 "cells": [
  {
   "cell_type": "code",
   "execution_count": 1,
   "id": "062fdcd2",
   "metadata": {},
   "outputs": [
    {
     "name": "stdout",
     "output_type": "stream",
     "text": [
      "Libraries imported successfully!\n"
     ]
    }
   ],
   "source": [
    "import os\n",
    "from dotenv import load_dotenv\n",
    "\n",
    "# Load environment variables\n",
    "load_dotenv()\n",
    "\n",
    "# Get Azure OpenAI configuration from environment variables\n",
    "azure_openai_api_key = os.getenv(\"AZURE_OPENAI_KEY\")\n",
    "azure_openai_endpoint = os.getenv(\"AZURE_OPENAI_ENDPOINT\")\n",
    "azure_openai_api_version = os.getenv(\"AZURE_OPENAI_VERSION\")\n",
    "azure_openai_deployment_name = os.getenv(\"AZURE_OPENAI_DEPLOYMENT_NAME\")\n",
    "azure_openai_embedding_deployment_name = os.getenv(\"AZURE_OPENAI_EmBEDDING_DEPLOYMENT_NAME \")\n",
    "\n",
    "print(\"Libraries imported successfully!\")"
   ]
  },
  {
   "cell_type": "code",
   "execution_count": 2,
   "id": "7c71dee3",
   "metadata": {},
   "outputs": [],
   "source": [
    "from langchain_chroma import Chroma\n",
    "from langchain_openai import AzureOpenAIEmbeddings\n",
    "persist_directory = 'docs/chroma/'\n",
    "\n",
    "# Initialize embeddings\n",
    "embedding = AzureOpenAIEmbeddings(\n",
    "    azure_endpoint=azure_openai_endpoint,\n",
    "    api_key=azure_openai_api_key,\n",
    "    api_version=azure_openai_api_version,\n",
    "    deployment=azure_openai_embedding_deployment_name\n",
    ")\n",
    "\n",
    "vectordb = Chroma(\n",
    "    persist_directory=persist_directory,\n",
    "    embedding_function=embedding\n",
    "    )"
   ]
  },
  {
   "cell_type": "code",
   "execution_count": 3,
   "id": "e78ce973",
   "metadata": {},
   "outputs": [
    {
     "name": "stdout",
     "output_type": "stream",
     "text": [
      "208\n"
     ]
    }
   ],
   "source": [
    "print(vectordb._collection.count())"
   ]
  },
  {
   "cell_type": "code",
   "execution_count": 4,
   "id": "deeda8e6",
   "metadata": {},
   "outputs": [
    {
     "data": {
      "text/plain": [
       "3"
      ]
     },
     "execution_count": 4,
     "metadata": {},
     "output_type": "execute_result"
    }
   ],
   "source": [
    "question = \"What are major topics for this class?\"\n",
    "docs = vectordb.similarity_search(question,k=3)\n",
    "len(docs)"
   ]
  },
  {
   "cell_type": "code",
   "execution_count": 5,
   "id": "2162a4fe",
   "metadata": {},
   "outputs": [],
   "source": [
    "from langchain_openai import AzureChatOpenAI\n",
    "\n",
    "llm = AzureChatOpenAI(\n",
    "    azure_deployment=azure_openai_deployment_name,\n",
    "    api_version=azure_openai_api_version,\n",
    "    api_key=azure_openai_api_key,\n",
    "    temperature=0\n",
    ")"
   ]
  },
  {
   "cell_type": "code",
   "execution_count": 6,
   "id": "3d16d531",
   "metadata": {},
   "outputs": [],
   "source": [
    "from langchain.chains import RetrievalQA\n",
    "\n",
    "qa_chain = RetrievalQA.from_chain_type(\n",
    "    llm,\n",
    "    retriever=vectordb.as_retriever()\n",
    ")"
   ]
  },
  {
   "cell_type": "code",
   "execution_count": 7,
   "id": "0bda15e2",
   "metadata": {},
   "outputs": [
    {
     "data": {
      "text/plain": [
       "\"The major topics for this class include **machine learning** concepts. The course will cover foundational material, and there will be **refresher sessions** on topics like **statistics** and **algebra** during discussion sections for those who need them. Additionally, the discussion sections will explore **extensions of the material** taught in the main lectures, as machine learning is a vast field, and some advanced topics couldn't be included in the main lectures.\""
      ]
     },
     "execution_count": 7,
     "metadata": {},
     "output_type": "execute_result"
    }
   ],
   "source": [
    "result = qa_chain.invoke({\"query\": question})\n",
    "result[\"result\"]"
   ]
  },
  {
   "cell_type": "code",
   "execution_count": 8,
   "id": "17ce1297",
   "metadata": {},
   "outputs": [],
   "source": [
    "from langchain.prompts import PromptTemplate\n",
    "\n",
    "# Build prompt\n",
    "template = \"\"\"Use the following pieces of context to answer the question at the end. If you don't know the answer, just say that you don't know, don't try to make up an answer. Use three sentences maximum. Keep the answer as concise as possible. Always say \"thanks for asking!\" at the end of the answer. \n",
    "{context}\n",
    "Question: {question}\n",
    "Helpful Answer:\"\"\"\n",
    "QA_CHAIN_PROMPT = PromptTemplate.from_template(template)\n",
    "\n",
    "# Run chain\n",
    "qa_chain = RetrievalQA.from_chain_type(\n",
    "    llm,\n",
    "    retriever=vectordb.as_retriever(),\n",
    "    return_source_documents=True,\n",
    "    chain_type_kwargs={\"prompt\": QA_CHAIN_PROMPT}\n",
    ")"
   ]
  },
  {
   "cell_type": "code",
   "execution_count": 9,
   "id": "51a126bb",
   "metadata": {},
   "outputs": [],
   "source": [
    "question = \"Is probability a class topic?\"\n",
    "result = qa_chain.invoke({\"query\": question})"
   ]
  },
  {
   "cell_type": "code",
   "execution_count": 10,
   "id": "64e5949a",
   "metadata": {},
   "outputs": [
    {
     "data": {
      "text/plain": [
       "'Yes, probability is a class topic, as the instructor assumes familiarity with basic probability concepts like random variables, expectation, and variance, and mentions using probabilistic interpretations in the course. Refresher sessions on probability are also offered in discussion sections. Thanks for asking!'"
      ]
     },
     "execution_count": 10,
     "metadata": {},
     "output_type": "execute_result"
    }
   ],
   "source": [
    "result[\"result\"]"
   ]
  },
  {
   "cell_type": "code",
   "execution_count": 11,
   "id": "d1234ebc",
   "metadata": {},
   "outputs": [
    {
     "data": {
      "text/plain": [
       "Document(id='982e4981-6eb9-4514-8424-0c02fda4b56f', metadata={'title': '', 'moddate': '2008-07-11T11:25:23-07:00', 'source': 'docs/MachineLearning-Lecture01.pdf', 'producer': 'Acrobat Distiller 8.1.0 (Windows)', 'creationdate': '2008-07-11T11:25:23-07:00', 'page_label': '5', 'author': '', 'page': 4, 'creator': 'PScript5.dll Version 5.2.2', 'total_pages': 22}, page_content=\"of this class will not be very programming intensive, although we will do some \\nprogramming, mostly in either MATLAB or Octave. I'll say a bit more about that later.  \\nI also assume familiarity with basic probability and statistics. So most undergraduate \\nstatistics class, like Stat 116 taught here at Stanford, will be more than enough. I'm gonna \\nassume all of you know what random variables are, that all of you know what expectation \\nis, what a variance or a random variable is. And in case of some of you, it's been a while \\nsince you've seen some of this material. At some of the discussion sections, we'll actually \\ngo over some of the prerequisites, sort of as a refresher course under prerequisite class. \\nI'll say a bit more about that later as well.  \\nLastly, I also assume familiarity with basic linear algebra. And again, most undergraduate \\nlinear algebra courses are more than enough. So if you've taken courses like Math 51, \\n103, Math 113 or CS205 at Stanford, that would be more than enough. Basically, I'm \\ngonna assume that all of you know what matrixes and vectors are, that you know how to \\nmultiply matrices and vectors and multiply matrix and matrices, that you know what a \\nmatrix inverse is. If you know what an eigenvector of a matrix is, that'd be even better. \\nBut if you don't quite know or if you're not quite sure, that's fine, too. We'll go over it in \\nthe review sections.\")"
      ]
     },
     "execution_count": 11,
     "metadata": {},
     "output_type": "execute_result"
    }
   ],
   "source": [
    "result[\"source_documents\"][0]"
   ]
  },
  {
   "cell_type": "code",
   "execution_count": 12,
   "id": "dbe30ba3",
   "metadata": {},
   "outputs": [
    {
     "data": {
      "text/plain": [
       "'Yes, probability is a class topic. The text explicitly mentions that the class assumes familiarity with basic probability and statistics, including concepts like random variables, expectation, and variance. Additionally, probability concepts are applied in the course, such as using a \"probabilistic interpretation\" to derive a learning algorithm. Some discussion sections also cover these topics as a refresher.'"
      ]
     },
     "execution_count": 12,
     "metadata": {},
     "output_type": "execute_result"
    }
   ],
   "source": [
    "#above was stuff technique. For efficiency, lets try other techniques like map reduce\n",
    "\n",
    "#fixed error \"\" 'NoneType' object has no attribute 'startswith' \"\"\n",
    "llm = AzureChatOpenAI(\n",
    "    azure_deployment=azure_openai_deployment_name,\n",
    "    api_version=azure_openai_api_version,\n",
    "    api_key=azure_openai_api_key,\n",
    "    temperature=0,\n",
    "    model=\"gpt-4o\" #there was an error in using the below chain if model name is not specified, it was taking 'None'. Hence intialized it again\n",
    ")\n",
    "\n",
    "qa_chain_mr = RetrievalQA.from_chain_type(\n",
    "    llm,\n",
    "    retriever=vectordb.as_retriever(),\n",
    "    chain_type=\"map_reduce\"\n",
    ")\n",
    "\n",
    "result = qa_chain_mr.invoke({\"query\": question})\n",
    "\n",
    "result[\"result\"]"
   ]
  },
  {
   "cell_type": "code",
   "execution_count": null,
   "id": "fcc4e45e",
   "metadata": {},
   "outputs": [
    {
     "name": "stderr",
     "output_type": "stream",
     "text": [
      "C:\\Users\\garagrawal\\AppData\\Local\\Temp\\ipykernel_30888\\412497411.py:6: LangChainDeprecationWarning: The method `Chain.__call__` was deprecated in langchain 0.1.0 and will be removed in 1.0. Use :meth:`~invoke` instead.\n",
      "  result = qa_chain_mr({\"query\": question})\n"
     ]
    },
    {
     "data": {
      "text/plain": [
       "'Probability is not explicitly listed as a standalone class topic, but it plays an important role in the course. The instructor uses probabilistic interpretations to derive and explain learning algorithms, such as transitioning from regression to classification problems. A basic understanding of probability and statistics—covering concepts like random variables, expectation, and variance—is assumed as a prerequisite for the class. For students who may need a refresher, these topics, along with algebra, will be reviewed during discussion sections. Additionally, discussion sections will later be used to explore extensions of the material covered in the main lectures.'"
      ]
     },
     "execution_count": 13,
     "metadata": {},
     "output_type": "execute_result"
    }
   ],
   "source": [
    "qa_chain_mr = RetrievalQA.from_chain_type(\n",
    "    llm,\n",
    "    retriever=vectordb.as_retriever(),\n",
    "    chain_type=\"refine\"\n",
    ")\n",
    "result = qa_chain_mr.invoke({\"query\": question})\n",
    "result[\"result\"]"
   ]
  },
  {
   "cell_type": "code",
   "execution_count": null,
   "id": "722b1e35",
   "metadata": {},
   "outputs": [
    {
     "data": {
      "text/plain": [
       "'Yes, probability is a class topic. The instructor assumes familiarity with basic probability and statistics, such as understanding random variables, expectation, and variance. These concepts are foundational and will be used in the course. Additionally, the instructor mentions that some discussion sections will serve as a refresher for these prerequisites if needed.'"
      ]
     },
     "execution_count": 14,
     "metadata": {},
     "output_type": "execute_result"
    }
   ],
   "source": [
    "#since no memory the question and answer ahead does not match\n",
    "qa_chain = RetrievalQA.from_chain_type(\n",
    "    llm,\n",
    "    retriever=vectordb.as_retriever()\n",
    ")\n",
    "question = \"Is probability a class topic?\"\n",
    "result = qa_chain({\"query\": question})\n",
    "result[\"result\"]"
   ]
  },
  {
   "cell_type": "code",
   "execution_count": 15,
   "id": "6db68237",
   "metadata": {},
   "outputs": [
    {
     "data": {
      "text/plain": [
       "\"The prerequisites mentioned are necessary because they provide the foundational knowledge and skills required to understand and effectively apply the concepts taught in the class. Here's why each of the prerequisites is important:\\n\\n1. **Basic Probability and Statistics**:\\n   - Machine learning algorithms often rely on probabilistic models and statistical reasoning. For example, understanding concepts like random variables, expectation, variance, and probability distributions is crucial for grasping how algorithms like Naive Bayes, Gaussian Mixture Models, or Bayesian inference work.\\n   - Many machine learning techniques involve evaluating the likelihood of events, making predictions, or estimating parameters, all of which require a solid understanding of probability and statistics.\\n\\n2. **Basic Linear Algebra**:\\n   - Linear algebra is the mathematical backbone of many machine learning algorithms. Concepts like vectors, matrices, matrix multiplication, and matrix inversion are used extensively in algorithms like linear regression, support vector machines, and neural networks.\\n   - Eigenvectors and eigenvalues, for instance, are critical for understanding dimensionality reduction techniques like Principal Component Analysis (PCA).\\n   - Without a good grasp of linear algebra, it would be challenging to understand how data is represented and manipulated in high-dimensional spaces.\\n\\n3. **Basic Programming Skills (MATLAB or Octave)**:\\n   - While the course is not programming-intensive, some programming is required to implement and experiment with machine learning algorithms. MATLAB or Octave are used because they are well-suited for numerical computations and matrix operations, which are common in machine learning.\\n   - Programming also helps students gain hands-on experience, which is essential for applying theoretical concepts to real-world problems.\\n\\n4. **Basic Computer Science Knowledge (e.g., Big-O Notation)**:\\n   - Understanding Big-O notation and basic computer science principles is important for analyzing the efficiency and scalability of machine learning algorithms. For example, knowing the computational complexity of an algorithm helps in selecting the right algorithm for a given problem, especially when working with large datasets.\\n   - Basic computer science knowledge also ensures that students can understand and work with data structures and algorithms, which are often used in machine learning pipelines.\\n\\nIn summary, these prerequisites ensure that students have the mathematical, statistical, and computational foundation needed to understand the theoretical aspects of machine learning and to implement and apply algorithms effectively. Without this foundation, students might struggle to follow the course material or apply the concepts to real-world problems.\""
      ]
     },
     "execution_count": 15,
     "metadata": {},
     "output_type": "execute_result"
    }
   ],
   "source": [
    "question = \"why are those prerequesites needed?\"\n",
    "result = qa_chain({\"query\": question})\n",
    "result[\"result\"]"
   ]
  },
  {
   "cell_type": "code",
   "execution_count": null,
   "id": "442f6968",
   "metadata": {},
   "outputs": [],
   "source": []
  }
 ],
 "metadata": {
  "kernelspec": {
   "display_name": "venv",
   "language": "python",
   "name": "python3"
  },
  "language_info": {
   "codemirror_mode": {
    "name": "ipython",
    "version": 3
   },
   "file_extension": ".py",
   "mimetype": "text/x-python",
   "name": "python",
   "nbconvert_exporter": "python",
   "pygments_lexer": "ipython3",
   "version": "3.13.6"
  }
 },
 "nbformat": 4,
 "nbformat_minor": 5
}
